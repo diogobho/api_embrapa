{
 "cells": [
  {
   "cell_type": "code",
   "execution_count": null,
   "metadata": {},
   "outputs": [],
   "source": [
    "import requests\n",
    "from bs4 import BeautifulSoup\n",
    "import pandas as pd"
   ]
  },
  {
   "cell_type": "code",
   "execution_count": null,
   "metadata": {},
   "outputs": [],
   "source": [
    "def scrape_viti_brasil(year):\n",
    "    url = f'http://vitibrasil.cnpuv.embrapa.br/index.php?opcao=opt_02&ano={year}'\n",
    "\n",
    "    response = requests.get(url)\n",
    "\n",
    "    data = []\n",
    "\n",
    "    if response.status_code == 200:\n",
    "        soup = BeautifulSoup(response.content, 'html.parser')\n",
    "\n",
    "        tabela = ''\n",
    "        produto = ''\n",
    "        sub_produto = ''\n",
    "        quantidade = ''\n",
    "        ano = str(year)  \n",
    "        unidade_medida = 'L'  \n",
    "\n",
    "        \n",
    "        rows = soup.find_all('tr')\n",
    "\n",
    "        \n",
    "        for row in rows:\n",
    "            \n",
    "            cells = row.find_all('td')\n",
    "            \n",
    "            if cells:\n",
    "                \n",
    "                if 'tb_item' in cells[0].get('class', []):\n",
    "                    produto = cells[0].get_text(strip=True)\n",
    "                    quantidade = cells[1].get_text(strip=True)\n",
    "                    \n",
    "                    data.append({'tabela': tabela, 'produto': produto, 'sub_produto': '', 'quantidade': quantidade, 'ano': ano, 'unidade_medida': unidade_medida})\n",
    "                \n",
    "                elif 'tb_subitem' in cells[0].get('class', []):\n",
    "                    sub_produto = cells[0].get_text(strip=True)\n",
    "                    quantidade = cells[1].get_text(strip=True)\n",
    "                    \n",
    "                    data.append({'tabela': tabela, 'produto': produto, 'sub_produto': sub_produto, 'quantidade': quantidade, 'ano': ano, 'unidade_medida': unidade_medida})\n",
    "\n",
    "    else:\n",
    "        print('Falha ao acessar o site.')\n",
    "\n",
    "    df = pd.DataFrame(data)\n",
    "    return df"
   ]
  },
  {
   "cell_type": "code",
   "execution_count": null,
   "metadata": {},
   "outputs": [],
   "source": [
    "max_year = 2022"
   ]
  },
  {
   "cell_type": "code",
   "execution_count": null,
   "metadata": {},
   "outputs": [],
   "source": [
    "while True:\n",
    "    try:\n",
    "        user_year = int(input(f\"Digite o ano desejado (1970-{max_year}): \"))\n",
    "        if 1970 <= user_year <= max_year:\n",
    "            break\n",
    "        else:\n",
    "            print(f\"Por favor, insira um ano entre 1970 e {max_year}.\")\n",
    "    except ValueError:\n",
    "        print(\"Por favor, insira um ano válido.\")"
   ]
  },
  {
   "cell_type": "code",
   "execution_count": null,
   "metadata": {},
   "outputs": [],
   "source": [
    "df = scrape_viti_brasil(user_year)\n",
    "\n",
    "pd.DataFrame(df)"
   ]
  }
 ],
 "metadata": {
  "kernelspec": {
   "display_name": "Python 3",
   "language": "python",
   "name": "python3"
  },
  "language_info": {
   "codemirror_mode": {
    "name": "ipython",
    "version": 3
   },
   "file_extension": ".py",
   "mimetype": "text/x-python",
   "name": "python",
   "nbconvert_exporter": "python",
   "pygments_lexer": "ipython3",
   "version": "3.12.2"
  }
 },
 "nbformat": 4,
 "nbformat_minor": 2
}
