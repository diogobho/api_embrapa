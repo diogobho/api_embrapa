{
 "cells": [
  {
   "cell_type": "code",
   "execution_count": 4,
   "metadata": {},
   "outputs": [],
   "source": [
    "import requests\n",
    "from bs4 import BeautifulSoup\n",
    "import pandas as pd\n",
    "\n",
    "def extrair_subopcoes(conteudo_html):\n",
    "    sopa = BeautifulSoup(conteudo_html, 'html.parser')\n",
    "    botoes = sopa.find_all('button', class_='btn_sopt')\n",
    "    mapeamento_subopcao = {}\n",
    "    for botao in botoes:\n",
    "        subopcao = botao['value']\n",
    "        nome_produto = botao.get_text(strip=True)\n",
    "        mapeamento_subopcao[subopcao] = nome_produto\n",
    "    return mapeamento_subopcao"
   ]
  },
  {
   "cell_type": "code",
   "execution_count": 5,
   "metadata": {},
   "outputs": [
    {
     "name": "stdout",
     "output_type": "stream",
     "text": [
      "Nenhum dado encontrado.\n"
     ]
    }
   ],
   "source": [
    "\n",
    "\n",
    "def raspar_viti_brasil_processamento(ano, opcao):\n",
    "    dicionario_opcao = {'opt_03': 'Processamento'}  # Defina dicionario_opcao dentro da função\n",
    "\n",
    "    url = f'http://vitibrasil.cnpuv.embrapa.br/index.php?ano={ano}&opcao={opcao}'\n",
    "    resposta = requests.get(url)\n",
    "    \n",
    "    if resposta.status_code == 200:\n",
    "        mapeamento_subopcao = extrair_subopcoes(resposta.content)\n",
    "        lista_dfs = []\n",
    "        for subopcao, produto in mapeamento_subopcao.items():\n",
    "            sub_url = f'{url}&subopcao={subopcao}'\n",
    "            sub_resposta = requests.get(sub_url)\n",
    "            if sub_resposta.status_code == 200:\n",
    "                sub_sopa = BeautifulSoup(sub_resposta.content, 'html.parser')\n",
    "                tabela = sub_sopa.find('table', class_='tb_dados')\n",
    "                if tabela:\n",
    "                    dados = []\n",
    "                    linhas = tabela.find_all('tr')\n",
    "                    for linha in linhas[1:]:\n",
    "                        celulas = linha.find_all('td')\n",
    "                        if celulas:\n",
    "                            if 'tb_item' in celulas[0].get('class', []):\n",
    "                                produto = celulas[0].get_text(strip=True)\n",
    "                                quantidade = celulas[1].get_text(strip=True)\n",
    "                                dados.append({'tabela': dicionario_opcao[opcao], 'produto': produto, 'sub_produto': None, 'quantidade': quantidade, 'ano': ano, 'unidade_medida': 'kg'})\n",
    "                            elif 'tb_subitem' in celulas[0].get('class', []):\n",
    "                                sub_produto = celulas[0].get_text(strip=True)\n",
    "                                quantidade = celulas[1].get_text(strip=True)\n",
    "                                dados.append({'tabela': dicionario_opcao[opcao], 'produto': produto, 'sub_produto': sub_produto, 'quantidade': quantidade, 'ano': ano, 'unidade_medida': 'kg'})\n",
    "                    df = pd.DataFrame(dados)\n",
    "                    df = df.dropna(subset=['sub_produto'])\n",
    "                    lista_dfs.append(df)\n",
    "                    \n",
    "                else:\n",
    "                    print(f'Tabela não encontrada para subopção {subopcao}.')\n",
    "            else:\n",
    "                print(f'Falha ao fazer a solicitação HTTP para subopcao {subopcao}.')\n",
    "        \n",
    "        if lista_dfs:\n",
    "            return pd.concat(lista_dfs, ignore_index=True)\n",
    "        else:\n",
    "            return None\n",
    "    else:\n",
    "        print('Falha ao fazer a solicitação HTTP para a página principal.')\n",
    "        return None\n",
    "\n",
    "# Exemplo de uso da função\n",
    "ano = 2021\n",
    "opcao = 'opt_03'\n",
    "resultado = raspar_viti_brasil_processamento(ano, opcao)\n",
    "if resultado is not None:\n",
    "    print(resultado)"
   ]
  }
 ],
 "metadata": {
  "kernelspec": {
   "display_name": "fiap",
   "language": "python",
   "name": "python3"
  },
  "language_info": {
   "codemirror_mode": {
    "name": "ipython",
    "version": 3
   },
   "file_extension": ".py",
   "mimetype": "text/x-python",
   "name": "python",
   "nbconvert_exporter": "python",
   "pygments_lexer": "ipython3",
   "version": "3.12.2"
  }
 },
 "nbformat": 4,
 "nbformat_minor": 2
}
