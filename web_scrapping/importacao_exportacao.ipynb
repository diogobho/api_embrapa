{
 "cells": [
  {
   "cell_type": "code",
   "execution_count": 35,
   "metadata": {},
   "outputs": [],
   "source": [
    "import requests\n",
    "from bs4 import BeautifulSoup\n",
    "import pandas as pd\n",
    "\n",
    "def extract_suboptions(html_content):\n",
    "    soup = BeautifulSoup(html_content, 'html.parser')\n",
    "    buttons = soup.find_all('button', class_='btn_sopt')\n",
    "    subopcao_mapping = {}\n",
    "    for button in buttons:\n",
    "        subopcao = button['value']\n",
    "        nome_produto = button.get_text(strip=True)\n",
    "        subopcao_mapping[subopcao] = nome_produto\n",
    "    return subopcao_mapping\n"
   ]
  },
  {
   "cell_type": "code",
   "execution_count": 37,
   "metadata": {},
   "outputs": [
    {
     "name": "stdout",
     "output_type": "stream",
     "text": [
      "         Tabela         Produto                           paises   Ano  \\\n",
      "0    Exportação  Vinhos de mesa                      Afeganistão  2023   \n",
      "1    Exportação  Vinhos de mesa                    África do Sul  2023   \n",
      "2    Exportação  Vinhos de mesa  Alemanha, República Democrática  2023   \n",
      "3    Exportação  Vinhos de mesa                           Angola  2023   \n",
      "4    Exportação  Vinhos de mesa                         Anguilla  2023   \n",
      "..          ...             ...                              ...   ...   \n",
      "495  Exportação     Suco de uva                          Turquia  2023   \n",
      "496  Exportação     Suco de uva                          Uruguai  2023   \n",
      "497  Exportação     Suco de uva                          Vanuatu  2023   \n",
      "498  Exportação     Suco de uva                        Venezuela  2023   \n",
      "499  Exportação     Suco de uva                            Total  2023   \n",
      "\n",
      "    quantidade Unidade_quantidade       valor Unidade_valor  \n",
      "0            -                 kg           -           US$  \n",
      "1          117                 kg         698           US$  \n",
      "2        4.806                 kg      31.853           US$  \n",
      "3            -                 kg           -           US$  \n",
      "4            -                 kg           -           US$  \n",
      "..         ...                ...         ...           ...  \n",
      "495        230                 kg         455           US$  \n",
      "496          -                 kg           -           US$  \n",
      "497          -                 kg           -           US$  \n",
      "498     30.206                 kg      47.287           US$  \n",
      "499  5.224.898                 kg  11.619.744           US$  \n",
      "\n",
      "[500 rows x 8 columns]\n"
     ]
    }
   ],
   "source": [
    "def scrape_viti_brasil(ano, opcao):\n",
    "    opcao_dict = {'opt_05': 'Importação', 'opt_06': 'Exportação'}  # Defina opcao_dict dentro da função\n",
    "\n",
    "    url = f'http://vitibrasil.cnpuv.embrapa.br/index.php?ano={ano}&opcao={opcao}'\n",
    "    response = requests.get(url)\n",
    "    \n",
    "    if response.status_code == 200:\n",
    "        subopcao_mapping = extract_suboptions(response.content)\n",
    "        dfs = []\n",
    "        for subopcao, produto in subopcao_mapping.items():\n",
    "            sub_url = f'{url}&subopcao={subopcao}'\n",
    "            sub_response = requests.get(sub_url)\n",
    "            if sub_response.status_code == 200:\n",
    "                sub_soup = BeautifulSoup(sub_response.content, 'html.parser')\n",
    "                table = sub_soup.find('table', class_='tb_dados')\n",
    "                if table:\n",
    "                    data = []\n",
    "                    rows = table.find_all('tr')\n",
    "                    for row in rows[1:]:\n",
    "                        cells = row.find_all('td')\n",
    "                        row_data = [cell.get_text(strip=True) for cell in cells]\n",
    "                        data.append(row_data)\n",
    "                    df = pd.DataFrame(data, columns=['paises', 'quantidade', 'valor'])\n",
    "                    df['Tabela'] = opcao_dict[opcao]  # Use o dicionário para definir a coluna 'Tabela'\n",
    "                    df['Produto'] = produto\n",
    "                    df['Ano'] = ano\n",
    "                    df['Unidade_quantidade'] = 'kg'\n",
    "                    df['Unidade_valor'] = 'US$'\n",
    "                    df = df[['Tabela', 'Produto', 'paises', 'Ano', 'quantidade', 'Unidade_quantidade', 'valor', 'Unidade_valor']]\n",
    "                    dfs.append(df)\n",
    "                else:\n",
    "                    print(f'Tabela não encontrada para subopcao {subopcao}.')\n",
    "            else:\n",
    "                print(f'Falha ao fazer a solicitação HTTP para subopcao {subopcao}.')\n",
    "        \n",
    "        if dfs:\n",
    "            return pd.concat(dfs, ignore_index=True)\n",
    "        else:\n",
    "            return None\n",
    "    else:\n",
    "        print('Falha ao fazer a solicitação HTTP para a página principal.')\n",
    "        return None\n",
    "\n",
    "# Exemplo de uso da função\n",
    "ano = 2023\n",
    "opcao = 'opt_06'\n",
    "resultado = scrape_viti_brasil(ano, opcao)\n",
    "if resultado is not None:\n",
    "    print(resultado)"
   ]
  }
 ],
 "metadata": {
  "kernelspec": {
   "display_name": "fiap",
   "language": "python",
   "name": "python3"
  },
  "language_info": {
   "codemirror_mode": {
    "name": "ipython",
    "version": 3
   },
   "file_extension": ".py",
   "mimetype": "text/x-python",
   "name": "python",
   "nbconvert_exporter": "python",
   "pygments_lexer": "ipython3",
   "version": "3.10.6"
  }
 },
 "nbformat": 4,
 "nbformat_minor": 2
}
