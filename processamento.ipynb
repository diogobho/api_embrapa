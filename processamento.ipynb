{
 "cells": [
  {
   "cell_type": "code",
   "execution_count": 8,
   "metadata": {},
   "outputs": [],
   "source": [
    "import requests\n",
    "from bs4 import BeautifulSoup\n",
    "import pandas as pd\n",
    "\n",
    "# URL do site a ser scrapeado\n",
    "url = 'http://vitibrasil.cnpuv.embrapa.br/index.php?ano=2020&opcao=opt_03&subopcao=subopt_02'\n",
    "\n",
    "# Fazendo a requisição HTTP\n",
    "response = requests.get(url)\n",
    "\n",
    "data = []\n",
    "\n",
    "# Verifica se a requisição foi bem-sucedida\n",
    "if response.status_code == 200:\n",
    "    soup = BeautifulSoup(response.content, 'html.parser')\n",
    "\n",
    "    # Encontrar a tabela com a classe 'tb_dados'\n",
    "    table = soup.find('table', class_='tb_dados')\n",
    "\n",
    "    if table:\n",
    "        # Extrair os dados da tabela\n",
    "        rows = table.find_all('tr')\n",
    "\n",
    "        for row in rows:\n",
    "            # Obter as células da linha\n",
    "            cells = row.find_all('td')\n",
    "            if cells:\n",
    "                # Exemplo de acesso aos dados das células\n",
    "                country = cells[0].get_text(strip=True)\n",
    "                quantity = cells[1].get_text(strip=True)\n",
    "                # value = cells[2].get_text(strip=True)\n",
    "\n",
    "                # Aqui você pode fazer o processamento dos dados como desejado\n",
    "                data.append({'Country': country, 'Quantity': quantity, 'Value': value})\n",
    "    else:\n",
    "        print('Tabela não encontrada.')\n",
    "else:\n",
    "    print('Falha ao acessar o site.')\n",
    "\n",
    "# Convert the list of dictionaries to a DataFrame\n",
    "df = pd.DataFrame(data)"
   ]
  },
  {
   "cell_type": "code",
   "execution_count": 10,
   "metadata": {},
   "outputs": [
    {
     "data": {
      "text/html": [
       "<div>\n",
       "<style scoped>\n",
       "    .dataframe tbody tr th:only-of-type {\n",
       "        vertical-align: middle;\n",
       "    }\n",
       "\n",
       "    .dataframe tbody tr th {\n",
       "        vertical-align: top;\n",
       "    }\n",
       "\n",
       "    .dataframe thead th {\n",
       "        text-align: right;\n",
       "    }\n",
       "</style>\n",
       "<table border=\"1\" class=\"dataframe\">\n",
       "  <thead>\n",
       "    <tr style=\"text-align: right;\">\n",
       "      <th></th>\n",
       "      <th>Country</th>\n",
       "      <th>Quantity</th>\n",
       "      <th>Value</th>\n",
       "    </tr>\n",
       "  </thead>\n",
       "  <tbody>\n",
       "    <tr>\n",
       "      <th>0</th>\n",
       "      <td>TINTAS</td>\n",
       "      <td>376.136.313</td>\n",
       "      <td>428.292.652</td>\n",
       "    </tr>\n",
       "    <tr>\n",
       "      <th>1</th>\n",
       "      <td>Bacarina</td>\n",
       "      <td>-</td>\n",
       "      <td>428.292.652</td>\n",
       "    </tr>\n",
       "    <tr>\n",
       "      <th>2</th>\n",
       "      <td>Bailey</td>\n",
       "      <td>534.981</td>\n",
       "      <td>428.292.652</td>\n",
       "    </tr>\n",
       "    <tr>\n",
       "      <th>3</th>\n",
       "      <td>Bordo</td>\n",
       "      <td>129.978.861</td>\n",
       "      <td>428.292.652</td>\n",
       "    </tr>\n",
       "    <tr>\n",
       "      <th>4</th>\n",
       "      <td>Bourdin (S)</td>\n",
       "      <td>-</td>\n",
       "      <td>428.292.652</td>\n",
       "    </tr>\n",
       "  </tbody>\n",
       "</table>\n",
       "</div>"
      ],
      "text/plain": [
       "       Country     Quantity        Value\n",
       "0       TINTAS  376.136.313  428.292.652\n",
       "1     Bacarina            -  428.292.652\n",
       "2       Bailey      534.981  428.292.652\n",
       "3        Bordo  129.978.861  428.292.652\n",
       "4  Bourdin (S)            -  428.292.652"
      ]
     },
     "execution_count": 10,
     "metadata": {},
     "output_type": "execute_result"
    }
   ],
   "source": [
    "df.head()"
   ]
  }
 ],
 "metadata": {
  "kernelspec": {
   "display_name": "fiap",
   "language": "python",
   "name": "python3"
  },
  "language_info": {
   "codemirror_mode": {
    "name": "ipython",
    "version": 3
   },
   "file_extension": ".py",
   "mimetype": "text/x-python",
   "name": "python",
   "nbconvert_exporter": "python",
   "pygments_lexer": "ipython3",
   "version": "3.10.6"
  }
 },
 "nbformat": 4,
 "nbformat_minor": 2
}
